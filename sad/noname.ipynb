{
 "cells": [
  {
   "cell_type": "code",
   "execution_count": 28,
   "metadata": {},
   "outputs": [],
   "source": [
    "import pandas as pd\n",
    "import Levenshtein"
   ]
  },
  {
   "cell_type": "code",
   "execution_count": 18,
   "metadata": {},
   "outputs": [],
   "source": [
    "data = pd.read_csv('geo.csv').dropna()"
   ]
  },
  {
   "cell_type": "code",
   "execution_count": 21,
   "metadata": {},
   "outputs": [
    {
     "data": {
      "text/html": [
       "<div>\n",
       "<style scoped>\n",
       "    .dataframe tbody tr th:only-of-type {\n",
       "        vertical-align: middle;\n",
       "    }\n",
       "\n",
       "    .dataframe tbody tr th {\n",
       "        vertical-align: top;\n",
       "    }\n",
       "\n",
       "    .dataframe thead th {\n",
       "        text-align: right;\n",
       "    }\n",
       "</style>\n",
       "<table border=\"1\" class=\"dataframe\">\n",
       "  <thead>\n",
       "    <tr style=\"text-align: right;\">\n",
       "      <th></th>\n",
       "      <th>dirty</th>\n",
       "      <th>clean</th>\n",
       "    </tr>\n",
       "  </thead>\n",
       "  <tbody>\n",
       "    <tr>\n",
       "      <th>0</th>\n",
       "      <td>Удмуртская Республика, г. Ижевск, ул. Ворошило...</td>\n",
       "      <td>г. Ижевск, ул. Ворошилова, 23</td>\n",
       "    </tr>\n",
       "    <tr>\n",
       "      <th>1</th>\n",
       "      <td>Оренбургская область, Саракташский район, с. Н...</td>\n",
       "      <td>с. Новочеркасск, Центральная улица, 2</td>\n",
       "    </tr>\n",
       "    <tr>\n",
       "      <th>2</th>\n",
       "      <td>Псковская область, г. Великие Луки, пр-кт Гага...</td>\n",
       "      <td>г. Великие Луки, пр-кт Гагарина, 6</td>\n",
       "    </tr>\n",
       "    <tr>\n",
       "      <th>3</th>\n",
       "      <td>Псковская обл.,г. Великие Луки, пр-кт Октябрьс...</td>\n",
       "      <td>г. Великие Луки, пр-кт Октябрьский, 52</td>\n",
       "    </tr>\n",
       "    <tr>\n",
       "      <th>4</th>\n",
       "      <td>Псковская обл., г. Великие Луки, ул. Мелиорато...</td>\n",
       "      <td>г. Великие Луки, ул. Мелиораторов, 7</td>\n",
       "    </tr>\n",
       "  </tbody>\n",
       "</table>\n",
       "</div>"
      ],
      "text/plain": [
       "                                               dirty  \\\n",
       "0  Удмуртская Республика, г. Ижевск, ул. Ворошило...   \n",
       "1  Оренбургская область, Саракташский район, с. Н...   \n",
       "2  Псковская область, г. Великие Луки, пр-кт Гага...   \n",
       "3  Псковская обл.,г. Великие Луки, пр-кт Октябрьс...   \n",
       "4  Псковская обл., г. Великие Луки, ул. Мелиорато...   \n",
       "\n",
       "                                    clean  \n",
       "0           г. Ижевск, ул. Ворошилова, 23  \n",
       "1   с. Новочеркасск, Центральная улица, 2  \n",
       "2      г. Великие Луки, пр-кт Гагарина, 6  \n",
       "3  г. Великие Луки, пр-кт Октябрьский, 52  \n",
       "4    г. Великие Луки, ул. Мелиораторов, 7  "
      ]
     },
     "execution_count": 21,
     "metadata": {},
     "output_type": "execute_result"
    }
   ],
   "source": [
    "data.head()"
   ]
  },
  {
   "cell_type": "code",
   "execution_count": 22,
   "metadata": {},
   "outputs": [
    {
     "data": {
      "text/plain": [
       "(29695, 2)"
      ]
     },
     "execution_count": 22,
     "metadata": {},
     "output_type": "execute_result"
    }
   ],
   "source": [
    "data.shape"
   ]
  },
  {
   "cell_type": "code",
   "execution_count": 26,
   "metadata": {},
   "outputs": [
    {
     "data": {
      "text/plain": [
       "['Удмуртская',\n",
       " 'Республика',\n",
       " ',',\n",
       " 'г.',\n",
       " 'Ижевск',\n",
       " ',',\n",
       " 'ул.',\n",
       " 'Ворошилова',\n",
       " ',',\n",
       " '23']"
      ]
     },
     "execution_count": 26,
     "metadata": {},
     "output_type": "execute_result"
    }
   ],
   "source": [
    "data['tokenized'] = data['dirty'].apply(\n",
    "    lambda text:\n",
    "        text.replace(',', ' , ').replace('  ', ' ').split(' ')\n",
    ")\n",
    "\n",
    "data['tokenized'][0]"
   ]
  },
  {
   "cell_type": "code",
   "execution_count": 41,
   "metadata": {},
   "outputs": [
    {
     "name": "stdout",
     "output_type": "stream",
     "text": [
      "656647\n",
      "CPU times: user 289 ms, sys: 4 ms, total: 293 ms\n",
      "Wall time: 291 ms\n"
     ]
    }
   ],
   "source": [
    "%%time\n",
    "max = 0\n",
    "\n",
    "sum = 0\n",
    "for text in data['clean']:\n",
    "    sum += Levenshtein.distance(text, data['clean'][0])\n",
    "if sum > max:\n",
    "    max = sum\n",
    "    print(max)"
   ]
  },
  {
   "cell_type": "code",
   "execution_count": 40,
   "metadata": {},
   "outputs": [
    {
     "data": {
      "text/plain": [
       "26"
      ]
     },
     "execution_count": 40,
     "metadata": {},
     "output_type": "execute_result"
    }
   ],
   "source": [
    "Levenshtein.distance(data['clean'][0], data['clean'][1])"
   ]
  }
 ],
 "metadata": {
  "kernelspec": {
   "display_name": "Python 3",
   "language": "python",
   "name": "python3"
  },
  "language_info": {
   "codemirror_mode": {
    "name": "ipython",
    "version": 3
   },
   "file_extension": ".py",
   "mimetype": "text/x-python",
   "name": "python",
   "nbconvert_exporter": "python",
   "pygments_lexer": "ipython3",
   "version": "3.10.12"
  }
 },
 "nbformat": 4,
 "nbformat_minor": 2
}
